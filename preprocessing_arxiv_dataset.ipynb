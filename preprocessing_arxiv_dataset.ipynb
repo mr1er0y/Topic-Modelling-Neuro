{
  "metadata": {
    "kernelspec": {
      "display_name": "base",
      "language": "python",
      "name": "python3"
    },
    "language_info": {
      "codemirror_mode": {
        "name": "ipython",
        "version": 3
      },
      "file_extension": ".py",
      "mimetype": "text/x-python",
      "name": "python",
      "nbconvert_exporter": "python",
      "pygments_lexer": "ipython3",
      "version": "3.10.7"
    },
    "vscode": {
      "interpreter": {
        "hash": "78133a762ce0a7bc9f46575c7ef1cef692987cfd1c92abed89cb7e7bc45ad340"
      }
    },
    "colab": {
      "provenance": [],
      "include_colab_link": true
    },
    "gpuClass": "standard"
  },
  "nbformat_minor": 0,
  "nbformat": 4,
  "cells": [
    {
      "cell_type": "markdown",
      "metadata": {
        "id": "view-in-github",
        "colab_type": "text"
      },
      "source": [
        "<a href=\"https://colab.research.google.com/github/mr1er0y/Topic-Modelling-Neuro/blob/main/preprocessing_arxiv_dataset.ipynb\" target=\"_parent\"><img src=\"https://colab.research.google.com/assets/colab-badge.svg\" alt=\"Open In Colab\"/></a>"
      ]
    },
    {
      "cell_type": "markdown",
      "source": [
        "# Классификация тенденций в науке\n",
        "### Набор данных Arxiv\n",
        "\n",
        "Набор данных Arxiv datasets на платформе Kaggle - это сборник документов, собранных с открытого репозитория научных статей ArXiv.org. Этот набор данных содержит более 1,7 миллиона научных статей, опубликованных на протяжении более чем 20 лет, начиная с 1992 года. В наборе данных представлены работы по таким областям, как физика, математика, компьютерные науки, биология, экономика и многие другие.\n",
        "\n",
        "Набор данных Arxiv содержит множество метаданных для каждой научной статьи, таких как авторы, заголовок, аннотация, дата публикации, категории и теги. Кроме того, каждый документ представлен в формате текста, что позволяет проводить анализ текстовых данных, такой как тематическое моделирование, классификация и кластеризация."
      ],
      "metadata": {
        "id": "-2VlVJRnJk2S"
      }
    },
    {
      "cell_type": "code",
      "source": [
        "import dask.bag as db #dask \n",
        "import re\n",
        "import json\n",
        "import pandas as pd\n",
        "import numpy as np\n",
        "import seaborn as sns\n",
        "import matplotlib.pyplot as plt\n",
        "import string\n",
        "import logging\n",
        "\n",
        "logging.captureWarnings(True)\n",
        "\n",
        "input_file = \"drive/MyDrive/Data_arXiv/arxiv-metadata-oai-snapshot.json\"\n",
        "output_file = \"drive/MyDrive/Data_arXiv/filtered_arxiv_db.csv\""
      ],
      "metadata": {
        "id": "LeCl9KTSJk2U"
      },
      "execution_count": 1,
      "outputs": []
    },
    {
      "cell_type": "markdown",
      "source": [
        "### Загрузка данных\n",
        "\n",
        "Набор данных arXiv доступен в формате json, и хотя содержащиеся в нем фактические статьи были исключены, его размер составляет более 3 гигабайт, со статьями размер данных содержит более 1 ТБ.  Из-за огромного объема данных необходимо тщательно продумать процессы загрузки и манипулирования ими, особенно при использовании локальных вычислительных ресурсов.\n",
        "\n",
        "Dask Bag обрабатывает данные поэлементно, что позволяет распараллеливать обработку данных на несколько вычислительных узлов. В отличие от других инструментов для работы с данными, таких как Pandas или NumPy, Dask Bag не представляет данные в виде таблицы или массива, а обрабатывает данные как набор отдельных элементов, каждый из которых может иметь произвольную структуру."
      ],
      "metadata": {
        "id": "IFm67xA2Jk2X"
      }
    },
    {
      "cell_type": "code",
      "source": [
        "from google.colab import drive\n",
        "drive.mount('/content/drive')"
      ],
      "metadata": {
        "colab": {
          "base_uri": "https://localhost:8080/"
        },
        "id": "dKEdC55nJ2h-",
        "outputId": "74ce83af-acf4-4c83-978d-83eb71f5aa50"
      },
      "execution_count": 2,
      "outputs": [
        {
          "output_type": "stream",
          "name": "stdout",
          "text": [
            "Drive already mounted at /content/drive; to attempt to forcibly remount, call drive.mount(\"/content/drive\", force_remount=True).\n"
          ]
        }
      ]
    },
    {
      "cell_type": "code",
      "source": [
        "\n",
        "loaded_data = db.read_text(input_file).map(json.loads)"
      ],
      "metadata": {
        "id": "zWjECfEfJk2Y"
      },
      "execution_count": 3,
      "outputs": []
    },
    {
      "cell_type": "code",
      "source": [
        "#Check Loaded Data\n",
        "print(\"The dataset has {} rows.\".format(loaded_data.count().compute()))"
      ],
      "metadata": {
        "colab": {
          "base_uri": "https://localhost:8080/"
        },
        "id": "fs2Canq2Jk2a",
        "outputId": "fc0665a0-e3e5-4067-ab1c-f64b88a56be9"
      },
      "execution_count": 4,
      "outputs": [
        {
          "output_type": "stream",
          "name": "stdout",
          "text": [
            "The dataset has 2203919 rows.\n"
          ]
        }
      ]
    },
    {
      "cell_type": "markdown",
      "source": [
        "### Фильтрация и очистка данных\n",
        "Набор данных содержал более 2 миллионов мета данных, но был отфильтрован до более релевантных данных, которые были определены как темы, исследованные в течение последних 4 лет. Фильтрация была выполнена с использованием Dask Bag и преобразована во фрейм данных Pandas. Данные, созданные или обновленные в течение последних 5 лет, были учтены в процессе фильтрации. Набор данных был сокращен до 600 тыс. (30%) мета данных и некоторые типы данных были изменены для облегчения процессов манипулирования данными."
      ],
      "metadata": {
        "id": "oG1es0k4Jk2h"
      }
    },
    {
      "cell_type": "code",
      "source": [
        "# Define a function that returns the lastest year the paper was either published or updated. This function will be bases to the bag.filter() method.\n",
        "def get_last(x):\n",
        "    get_latest_version = int((x['versions'][-1]['created']).split(' ')[3])\n",
        "    get_latest_update = int((x['update_date']).split('-')[0])\n",
        "    last_date = max([get_latest_version, get_latest_update])\n",
        "    return last_date\n",
        "                            \n",
        "# Define a function that retunrs only the relevant attributes\n",
        "trim_attributes = lambda x: {'id': x['id'],\n",
        "                  'authors': x['authors'],\n",
        "                  'title': x['title'],\n",
        "                  'category':x['categories'].split(' '),\n",
        "                  'abstract':x['abstract'],\n",
        "                  'versions':x['versions'],\n",
        "                  'update_date':x['update_date'],}\n",
        "\n",
        "# Filter all articles that have ramained relevant or mostly investigated for at least the past 5 years\n",
        "columns = ['id','category','abstract']\n",
        "loaded_data = (loaded_data.filter(lambda x: get_last(x=x) > 2019).map(trim_attributes).compute())\n",
        "\n",
        "# convert to pandas\n",
        "df = pd.DataFrame(loaded_data)\n",
        "\n",
        "#check data frame\n",
        "df.head()"
      ],
      "metadata": {
        "colab": {
          "base_uri": "https://localhost:8080/",
          "height": 204
        },
        "id": "o9L62KvaJk2i",
        "outputId": "4f15c92e-11d2-4c4b-b741-b70ac99b3a77"
      },
      "execution_count": 5,
      "outputs": [
        {
          "output_type": "execute_result",
          "data": {
            "text/plain": [
              "          id                                            authors  \\\n",
              "0  0704.0033  Maxim A. Yurkin, Valeri P. Maltsev, Alfons G. ...   \n",
              "1  0704.0038                Maxim A. Yurkin, Alfons G. Hoekstra   \n",
              "2  0704.0275                   George M. Bergman (U.C.Berkeley)   \n",
              "3  0704.0479                                          T.Geisser   \n",
              "4  0704.0752                                      Davoud Kamani   \n",
              "\n",
              "                                               title  \\\n",
              "0  Convergence of the discrete dipole approximati...   \n",
              "1  The discrete dipole approximation: an overview...   \n",
              "2                     Mapping radii of metric spaces   \n",
              "3               The affine part of the Picard scheme   \n",
              "4  Actions for the Bosonic String with the Curved...   \n",
              "\n",
              "                            category  \\\n",
              "0  [physics.optics, physics.comp-ph]   \n",
              "1  [physics.optics, physics.comp-ph]   \n",
              "2                          [math.MG]   \n",
              "3                 [math.AG, math.KT]   \n",
              "4                           [hep-th]   \n",
              "\n",
              "                                            abstract  \\\n",
              "0    We performed a rigorous theoretical converge...   \n",
              "1    We present a review of the discrete dipole a...   \n",
              "2    It is known that every closed curve of lengt...   \n",
              "3    We describe the maximal torus and maximal un...   \n",
              "4    At first we introduce an action for the stri...   \n",
              "\n",
              "                                            versions update_date  \n",
              "0  [{'version': 'v1', 'created': 'Sat, 31 Mar 200...  2022-03-31  \n",
              "1  [{'version': 'v1', 'created': 'Sat, 31 Mar 200...  2022-03-30  \n",
              "2  [{'version': 'v1', 'created': 'Mon, 2 Apr 2007...  2021-10-15  \n",
              "3  [{'version': 'v1', 'created': 'Wed, 4 Apr 2007...  2021-01-29  \n",
              "4  [{'version': 'v1', 'created': 'Thu, 5 Apr 2007...  2020-08-21  "
            ],
            "text/html": [
              "\n",
              "  <div id=\"df-95200ccd-50d1-4d18-9d9e-8c34646c13c0\">\n",
              "    <div class=\"colab-df-container\">\n",
              "      <div>\n",
              "<style scoped>\n",
              "    .dataframe tbody tr th:only-of-type {\n",
              "        vertical-align: middle;\n",
              "    }\n",
              "\n",
              "    .dataframe tbody tr th {\n",
              "        vertical-align: top;\n",
              "    }\n",
              "\n",
              "    .dataframe thead th {\n",
              "        text-align: right;\n",
              "    }\n",
              "</style>\n",
              "<table border=\"1\" class=\"dataframe\">\n",
              "  <thead>\n",
              "    <tr style=\"text-align: right;\">\n",
              "      <th></th>\n",
              "      <th>id</th>\n",
              "      <th>authors</th>\n",
              "      <th>title</th>\n",
              "      <th>category</th>\n",
              "      <th>abstract</th>\n",
              "      <th>versions</th>\n",
              "      <th>update_date</th>\n",
              "    </tr>\n",
              "  </thead>\n",
              "  <tbody>\n",
              "    <tr>\n",
              "      <th>0</th>\n",
              "      <td>0704.0033</td>\n",
              "      <td>Maxim A. Yurkin, Valeri P. Maltsev, Alfons G. ...</td>\n",
              "      <td>Convergence of the discrete dipole approximati...</td>\n",
              "      <td>[physics.optics, physics.comp-ph]</td>\n",
              "      <td>We performed a rigorous theoretical converge...</td>\n",
              "      <td>[{'version': 'v1', 'created': 'Sat, 31 Mar 200...</td>\n",
              "      <td>2022-03-31</td>\n",
              "    </tr>\n",
              "    <tr>\n",
              "      <th>1</th>\n",
              "      <td>0704.0038</td>\n",
              "      <td>Maxim A. Yurkin, Alfons G. Hoekstra</td>\n",
              "      <td>The discrete dipole approximation: an overview...</td>\n",
              "      <td>[physics.optics, physics.comp-ph]</td>\n",
              "      <td>We present a review of the discrete dipole a...</td>\n",
              "      <td>[{'version': 'v1', 'created': 'Sat, 31 Mar 200...</td>\n",
              "      <td>2022-03-30</td>\n",
              "    </tr>\n",
              "    <tr>\n",
              "      <th>2</th>\n",
              "      <td>0704.0275</td>\n",
              "      <td>George M. Bergman (U.C.Berkeley)</td>\n",
              "      <td>Mapping radii of metric spaces</td>\n",
              "      <td>[math.MG]</td>\n",
              "      <td>It is known that every closed curve of lengt...</td>\n",
              "      <td>[{'version': 'v1', 'created': 'Mon, 2 Apr 2007...</td>\n",
              "      <td>2021-10-15</td>\n",
              "    </tr>\n",
              "    <tr>\n",
              "      <th>3</th>\n",
              "      <td>0704.0479</td>\n",
              "      <td>T.Geisser</td>\n",
              "      <td>The affine part of the Picard scheme</td>\n",
              "      <td>[math.AG, math.KT]</td>\n",
              "      <td>We describe the maximal torus and maximal un...</td>\n",
              "      <td>[{'version': 'v1', 'created': 'Wed, 4 Apr 2007...</td>\n",
              "      <td>2021-01-29</td>\n",
              "    </tr>\n",
              "    <tr>\n",
              "      <th>4</th>\n",
              "      <td>0704.0752</td>\n",
              "      <td>Davoud Kamani</td>\n",
              "      <td>Actions for the Bosonic String with the Curved...</td>\n",
              "      <td>[hep-th]</td>\n",
              "      <td>At first we introduce an action for the stri...</td>\n",
              "      <td>[{'version': 'v1', 'created': 'Thu, 5 Apr 2007...</td>\n",
              "      <td>2020-08-21</td>\n",
              "    </tr>\n",
              "  </tbody>\n",
              "</table>\n",
              "</div>\n",
              "      <button class=\"colab-df-convert\" onclick=\"convertToInteractive('df-95200ccd-50d1-4d18-9d9e-8c34646c13c0')\"\n",
              "              title=\"Convert this dataframe to an interactive table.\"\n",
              "              style=\"display:none;\">\n",
              "        \n",
              "  <svg xmlns=\"http://www.w3.org/2000/svg\" height=\"24px\"viewBox=\"0 0 24 24\"\n",
              "       width=\"24px\">\n",
              "    <path d=\"M0 0h24v24H0V0z\" fill=\"none\"/>\n",
              "    <path d=\"M18.56 5.44l.94 2.06.94-2.06 2.06-.94-2.06-.94-.94-2.06-.94 2.06-2.06.94zm-11 1L8.5 8.5l.94-2.06 2.06-.94-2.06-.94L8.5 2.5l-.94 2.06-2.06.94zm10 10l.94 2.06.94-2.06 2.06-.94-2.06-.94-.94-2.06-.94 2.06-2.06.94z\"/><path d=\"M17.41 7.96l-1.37-1.37c-.4-.4-.92-.59-1.43-.59-.52 0-1.04.2-1.43.59L10.3 9.45l-7.72 7.72c-.78.78-.78 2.05 0 2.83L4 21.41c.39.39.9.59 1.41.59.51 0 1.02-.2 1.41-.59l7.78-7.78 2.81-2.81c.8-.78.8-2.07 0-2.86zM5.41 20L4 18.59l7.72-7.72 1.47 1.35L5.41 20z\"/>\n",
              "  </svg>\n",
              "      </button>\n",
              "      \n",
              "  <style>\n",
              "    .colab-df-container {\n",
              "      display:flex;\n",
              "      flex-wrap:wrap;\n",
              "      gap: 12px;\n",
              "    }\n",
              "\n",
              "    .colab-df-convert {\n",
              "      background-color: #E8F0FE;\n",
              "      border: none;\n",
              "      border-radius: 50%;\n",
              "      cursor: pointer;\n",
              "      display: none;\n",
              "      fill: #1967D2;\n",
              "      height: 32px;\n",
              "      padding: 0 0 0 0;\n",
              "      width: 32px;\n",
              "    }\n",
              "\n",
              "    .colab-df-convert:hover {\n",
              "      background-color: #E2EBFA;\n",
              "      box-shadow: 0px 1px 2px rgba(60, 64, 67, 0.3), 0px 1px 3px 1px rgba(60, 64, 67, 0.15);\n",
              "      fill: #174EA6;\n",
              "    }\n",
              "\n",
              "    [theme=dark] .colab-df-convert {\n",
              "      background-color: #3B4455;\n",
              "      fill: #D2E3FC;\n",
              "    }\n",
              "\n",
              "    [theme=dark] .colab-df-convert:hover {\n",
              "      background-color: #434B5C;\n",
              "      box-shadow: 0px 1px 3px 1px rgba(0, 0, 0, 0.15);\n",
              "      filter: drop-shadow(0px 1px 2px rgba(0, 0, 0, 0.3));\n",
              "      fill: #FFFFFF;\n",
              "    }\n",
              "  </style>\n",
              "\n",
              "      <script>\n",
              "        const buttonEl =\n",
              "          document.querySelector('#df-95200ccd-50d1-4d18-9d9e-8c34646c13c0 button.colab-df-convert');\n",
              "        buttonEl.style.display =\n",
              "          google.colab.kernel.accessAllowed ? 'block' : 'none';\n",
              "\n",
              "        async function convertToInteractive(key) {\n",
              "          const element = document.querySelector('#df-95200ccd-50d1-4d18-9d9e-8c34646c13c0');\n",
              "          const dataTable =\n",
              "            await google.colab.kernel.invokeFunction('convertToInteractive',\n",
              "                                                     [key], {});\n",
              "          if (!dataTable) return;\n",
              "\n",
              "          const docLinkHtml = 'Like what you see? Visit the ' +\n",
              "            '<a target=\"_blank\" href=https://colab.research.google.com/notebooks/data_table.ipynb>data table notebook</a>'\n",
              "            + ' to learn more about interactive tables.';\n",
              "          element.innerHTML = '';\n",
              "          dataTable['output_type'] = 'display_data';\n",
              "          await google.colab.output.renderOutput(dataTable, element);\n",
              "          const docLink = document.createElement('div');\n",
              "          docLink.innerHTML = docLinkHtml;\n",
              "          element.appendChild(docLink);\n",
              "        }\n",
              "      </script>\n",
              "    </div>\n",
              "  </div>\n",
              "  "
            ]
          },
          "metadata": {},
          "execution_count": 5
        }
      ]
    },
    {
      "cell_type": "code",
      "source": [
        "#Check data frame size\n",
        "df.shape"
      ],
      "metadata": {
        "colab": {
          "base_uri": "https://localhost:8080/"
        },
        "id": "atKasFFhJk2k",
        "outputId": "b6bd1307-4bd1-42b7-b785-17401fad6b26"
      },
      "execution_count": 6,
      "outputs": [
        {
          "output_type": "execute_result",
          "data": {
            "text/plain": [
              "(658572, 7)"
            ]
          },
          "metadata": {},
          "execution_count": 6
        }
      ]
    },
    {
      "cell_type": "code",
      "source": [
        "#Check info and data types\n",
        "df.info()"
      ],
      "metadata": {
        "colab": {
          "base_uri": "https://localhost:8080/"
        },
        "id": "fpQht6HgJk2n",
        "outputId": "55e0af88-740e-4161-c824-a654cf2e17a0"
      },
      "execution_count": 7,
      "outputs": [
        {
          "output_type": "stream",
          "name": "stdout",
          "text": [
            "<class 'pandas.core.frame.DataFrame'>\n",
            "RangeIndex: 658572 entries, 0 to 658571\n",
            "Data columns (total 7 columns):\n",
            " #   Column       Non-Null Count   Dtype \n",
            "---  ------       --------------   ----- \n",
            " 0   id           658572 non-null  object\n",
            " 1   authors      658572 non-null  object\n",
            " 2   title        658572 non-null  object\n",
            " 3   category     658572 non-null  object\n",
            " 4   abstract     658572 non-null  object\n",
            " 5   versions     658572 non-null  object\n",
            " 6   update_date  658572 non-null  object\n",
            "dtypes: object(7)\n",
            "memory usage: 35.2+ MB\n"
          ]
        }
      ]
    },
    {
      "cell_type": "code",
      "source": [
        "#Check null values\n",
        "df.category.isnull().sum()"
      ],
      "metadata": {
        "colab": {
          "base_uri": "https://localhost:8080/"
        },
        "id": "zERhZdPbJk2o",
        "outputId": "4ccf75ee-0ddd-4013-babf-6e3c122670a2"
      },
      "execution_count": 8,
      "outputs": [
        {
          "output_type": "execute_result",
          "data": {
            "text/plain": [
              "0"
            ]
          },
          "metadata": {},
          "execution_count": 8
        }
      ]
    },
    {
      "cell_type": "code",
      "source": [
        "#Define function to generate new features\n",
        "\n",
        "def last_creation_date(x):\n",
        "    last_date = (x[-1]['created']).split(' ')\n",
        "    last_date = last_date[1] + ' ' + last_date[2] + ' ' + last_date[3] \n",
        "    return last_date\n",
        "\n",
        "def split_categories(example):\n",
        "    # sequences = example.split(' ')\n",
        "    return np.unique([el.split('.')[0] for el in example])\n",
        "\n",
        "def abstract_prep(data):\n",
        "    data = data[df['abstract'].str.contains('paper has been withdrawn') == False]\n",
        "    data['abstract'] = [a.strip() for a in data['abstract']]\n",
        "    data['abstract'] = data['abstract'].str.replace('\\n', ' ', regex = False).str.replace('\\t', ' ', regex = False).str.replace(r'\\s\\s+', ' ', regex = True)\n",
        "    data['abstract'] = data['abstract'].str.replace('([.,!?()])', r' \\1 ')\n",
        "    return data"
      ],
      "metadata": {
        "id": "pYrieVQyJk2p"
      },
      "execution_count": 9,
      "outputs": []
    },
    {
      "cell_type": "code",
      "source": [
        "# Generate new features by traforming the old category attribute and filter data\n",
        "# df = abstract_prep(df)\n",
        "# df['update_date'] = pd.to_datetime(df['update_date'])\n",
        "# df['created_date'] = pd.to_datetime(df['versions'].apply(lambda x: last_creation_date(x=x)))\n",
        "df['main_category'] = df['category'].apply(lambda x: split_categories(x))\n",
        "df = df.reindex(columns=['id', 'title', 'authors', 'category', 'main_category', 'created_date', 'update_date', 'abstract', 'versions'])"
      ],
      "metadata": {
        "id": "6nWDxgy5Jk2q"
      },
      "execution_count": 10,
      "outputs": []
    },
    {
      "cell_type": "code",
      "source": [
        "df.head()"
      ],
      "metadata": {
        "id": "GqR2OoiOJk2r",
        "colab": {
          "base_uri": "https://localhost:8080/",
          "height": 333
        },
        "outputId": "98a0af37-5c62-4a5b-aed7-189d478a90cf"
      },
      "execution_count": 11,
      "outputs": [
        {
          "output_type": "execute_result",
          "data": {
            "text/plain": [
              "          id                                              title  \\\n",
              "0  0704.0033  Convergence of the discrete dipole approximati...   \n",
              "1  0704.0038  The discrete dipole approximation: an overview...   \n",
              "2  0704.0275                     Mapping radii of metric spaces   \n",
              "3  0704.0479               The affine part of the Picard scheme   \n",
              "4  0704.0752  Actions for the Bosonic String with the Curved...   \n",
              "\n",
              "                                             authors  \\\n",
              "0  Maxim A. Yurkin, Valeri P. Maltsev, Alfons G. ...   \n",
              "1                Maxim A. Yurkin, Alfons G. Hoekstra   \n",
              "2                   George M. Bergman (U.C.Berkeley)   \n",
              "3                                          T.Geisser   \n",
              "4                                      Davoud Kamani   \n",
              "\n",
              "                            category main_category  created_date update_date  \\\n",
              "0  [physics.optics, physics.comp-ph]     [physics]           NaN  2022-03-31   \n",
              "1  [physics.optics, physics.comp-ph]     [physics]           NaN  2022-03-30   \n",
              "2                          [math.MG]        [math]           NaN  2021-10-15   \n",
              "3                 [math.AG, math.KT]        [math]           NaN  2021-01-29   \n",
              "4                           [hep-th]      [hep-th]           NaN  2020-08-21   \n",
              "\n",
              "                                            abstract  \\\n",
              "0    We performed a rigorous theoretical converge...   \n",
              "1    We present a review of the discrete dipole a...   \n",
              "2    It is known that every closed curve of lengt...   \n",
              "3    We describe the maximal torus and maximal un...   \n",
              "4    At first we introduce an action for the stri...   \n",
              "\n",
              "                                            versions  \n",
              "0  [{'version': 'v1', 'created': 'Sat, 31 Mar 200...  \n",
              "1  [{'version': 'v1', 'created': 'Sat, 31 Mar 200...  \n",
              "2  [{'version': 'v1', 'created': 'Mon, 2 Apr 2007...  \n",
              "3  [{'version': 'v1', 'created': 'Wed, 4 Apr 2007...  \n",
              "4  [{'version': 'v1', 'created': 'Thu, 5 Apr 2007...  "
            ],
            "text/html": [
              "\n",
              "  <div id=\"df-685d6542-9df6-4530-9b76-29145897a347\">\n",
              "    <div class=\"colab-df-container\">\n",
              "      <div>\n",
              "<style scoped>\n",
              "    .dataframe tbody tr th:only-of-type {\n",
              "        vertical-align: middle;\n",
              "    }\n",
              "\n",
              "    .dataframe tbody tr th {\n",
              "        vertical-align: top;\n",
              "    }\n",
              "\n",
              "    .dataframe thead th {\n",
              "        text-align: right;\n",
              "    }\n",
              "</style>\n",
              "<table border=\"1\" class=\"dataframe\">\n",
              "  <thead>\n",
              "    <tr style=\"text-align: right;\">\n",
              "      <th></th>\n",
              "      <th>id</th>\n",
              "      <th>title</th>\n",
              "      <th>authors</th>\n",
              "      <th>category</th>\n",
              "      <th>main_category</th>\n",
              "      <th>created_date</th>\n",
              "      <th>update_date</th>\n",
              "      <th>abstract</th>\n",
              "      <th>versions</th>\n",
              "    </tr>\n",
              "  </thead>\n",
              "  <tbody>\n",
              "    <tr>\n",
              "      <th>0</th>\n",
              "      <td>0704.0033</td>\n",
              "      <td>Convergence of the discrete dipole approximati...</td>\n",
              "      <td>Maxim A. Yurkin, Valeri P. Maltsev, Alfons G. ...</td>\n",
              "      <td>[physics.optics, physics.comp-ph]</td>\n",
              "      <td>[physics]</td>\n",
              "      <td>NaN</td>\n",
              "      <td>2022-03-31</td>\n",
              "      <td>We performed a rigorous theoretical converge...</td>\n",
              "      <td>[{'version': 'v1', 'created': 'Sat, 31 Mar 200...</td>\n",
              "    </tr>\n",
              "    <tr>\n",
              "      <th>1</th>\n",
              "      <td>0704.0038</td>\n",
              "      <td>The discrete dipole approximation: an overview...</td>\n",
              "      <td>Maxim A. Yurkin, Alfons G. Hoekstra</td>\n",
              "      <td>[physics.optics, physics.comp-ph]</td>\n",
              "      <td>[physics]</td>\n",
              "      <td>NaN</td>\n",
              "      <td>2022-03-30</td>\n",
              "      <td>We present a review of the discrete dipole a...</td>\n",
              "      <td>[{'version': 'v1', 'created': 'Sat, 31 Mar 200...</td>\n",
              "    </tr>\n",
              "    <tr>\n",
              "      <th>2</th>\n",
              "      <td>0704.0275</td>\n",
              "      <td>Mapping radii of metric spaces</td>\n",
              "      <td>George M. Bergman (U.C.Berkeley)</td>\n",
              "      <td>[math.MG]</td>\n",
              "      <td>[math]</td>\n",
              "      <td>NaN</td>\n",
              "      <td>2021-10-15</td>\n",
              "      <td>It is known that every closed curve of lengt...</td>\n",
              "      <td>[{'version': 'v1', 'created': 'Mon, 2 Apr 2007...</td>\n",
              "    </tr>\n",
              "    <tr>\n",
              "      <th>3</th>\n",
              "      <td>0704.0479</td>\n",
              "      <td>The affine part of the Picard scheme</td>\n",
              "      <td>T.Geisser</td>\n",
              "      <td>[math.AG, math.KT]</td>\n",
              "      <td>[math]</td>\n",
              "      <td>NaN</td>\n",
              "      <td>2021-01-29</td>\n",
              "      <td>We describe the maximal torus and maximal un...</td>\n",
              "      <td>[{'version': 'v1', 'created': 'Wed, 4 Apr 2007...</td>\n",
              "    </tr>\n",
              "    <tr>\n",
              "      <th>4</th>\n",
              "      <td>0704.0752</td>\n",
              "      <td>Actions for the Bosonic String with the Curved...</td>\n",
              "      <td>Davoud Kamani</td>\n",
              "      <td>[hep-th]</td>\n",
              "      <td>[hep-th]</td>\n",
              "      <td>NaN</td>\n",
              "      <td>2020-08-21</td>\n",
              "      <td>At first we introduce an action for the stri...</td>\n",
              "      <td>[{'version': 'v1', 'created': 'Thu, 5 Apr 2007...</td>\n",
              "    </tr>\n",
              "  </tbody>\n",
              "</table>\n",
              "</div>\n",
              "      <button class=\"colab-df-convert\" onclick=\"convertToInteractive('df-685d6542-9df6-4530-9b76-29145897a347')\"\n",
              "              title=\"Convert this dataframe to an interactive table.\"\n",
              "              style=\"display:none;\">\n",
              "        \n",
              "  <svg xmlns=\"http://www.w3.org/2000/svg\" height=\"24px\"viewBox=\"0 0 24 24\"\n",
              "       width=\"24px\">\n",
              "    <path d=\"M0 0h24v24H0V0z\" fill=\"none\"/>\n",
              "    <path d=\"M18.56 5.44l.94 2.06.94-2.06 2.06-.94-2.06-.94-.94-2.06-.94 2.06-2.06.94zm-11 1L8.5 8.5l.94-2.06 2.06-.94-2.06-.94L8.5 2.5l-.94 2.06-2.06.94zm10 10l.94 2.06.94-2.06 2.06-.94-2.06-.94-.94-2.06-.94 2.06-2.06.94z\"/><path d=\"M17.41 7.96l-1.37-1.37c-.4-.4-.92-.59-1.43-.59-.52 0-1.04.2-1.43.59L10.3 9.45l-7.72 7.72c-.78.78-.78 2.05 0 2.83L4 21.41c.39.39.9.59 1.41.59.51 0 1.02-.2 1.41-.59l7.78-7.78 2.81-2.81c.8-.78.8-2.07 0-2.86zM5.41 20L4 18.59l7.72-7.72 1.47 1.35L5.41 20z\"/>\n",
              "  </svg>\n",
              "      </button>\n",
              "      \n",
              "  <style>\n",
              "    .colab-df-container {\n",
              "      display:flex;\n",
              "      flex-wrap:wrap;\n",
              "      gap: 12px;\n",
              "    }\n",
              "\n",
              "    .colab-df-convert {\n",
              "      background-color: #E8F0FE;\n",
              "      border: none;\n",
              "      border-radius: 50%;\n",
              "      cursor: pointer;\n",
              "      display: none;\n",
              "      fill: #1967D2;\n",
              "      height: 32px;\n",
              "      padding: 0 0 0 0;\n",
              "      width: 32px;\n",
              "    }\n",
              "\n",
              "    .colab-df-convert:hover {\n",
              "      background-color: #E2EBFA;\n",
              "      box-shadow: 0px 1px 2px rgba(60, 64, 67, 0.3), 0px 1px 3px 1px rgba(60, 64, 67, 0.15);\n",
              "      fill: #174EA6;\n",
              "    }\n",
              "\n",
              "    [theme=dark] .colab-df-convert {\n",
              "      background-color: #3B4455;\n",
              "      fill: #D2E3FC;\n",
              "    }\n",
              "\n",
              "    [theme=dark] .colab-df-convert:hover {\n",
              "      background-color: #434B5C;\n",
              "      box-shadow: 0px 1px 3px 1px rgba(0, 0, 0, 0.15);\n",
              "      filter: drop-shadow(0px 1px 2px rgba(0, 0, 0, 0.3));\n",
              "      fill: #FFFFFF;\n",
              "    }\n",
              "  </style>\n",
              "\n",
              "      <script>\n",
              "        const buttonEl =\n",
              "          document.querySelector('#df-685d6542-9df6-4530-9b76-29145897a347 button.colab-df-convert');\n",
              "        buttonEl.style.display =\n",
              "          google.colab.kernel.accessAllowed ? 'block' : 'none';\n",
              "\n",
              "        async function convertToInteractive(key) {\n",
              "          const element = document.querySelector('#df-685d6542-9df6-4530-9b76-29145897a347');\n",
              "          const dataTable =\n",
              "            await google.colab.kernel.invokeFunction('convertToInteractive',\n",
              "                                                     [key], {});\n",
              "          if (!dataTable) return;\n",
              "\n",
              "          const docLinkHtml = 'Like what you see? Visit the ' +\n",
              "            '<a target=\"_blank\" href=https://colab.research.google.com/notebooks/data_table.ipynb>data table notebook</a>'\n",
              "            + ' to learn more about interactive tables.';\n",
              "          element.innerHTML = '';\n",
              "          dataTable['output_type'] = 'display_data';\n",
              "          await google.colab.output.renderOutput(dataTable, element);\n",
              "          const docLink = document.createElement('div');\n",
              "          docLink.innerHTML = docLinkHtml;\n",
              "          element.appendChild(docLink);\n",
              "        }\n",
              "      </script>\n",
              "    </div>\n",
              "  </div>\n",
              "  "
            ]
          },
          "metadata": {},
          "execution_count": 11
        }
      ]
    },
    {
      "cell_type": "code",
      "source": [
        "df = df[df[\"abstract\"].apply(len) > 150]"
      ],
      "metadata": {
        "id": "TX085ozPMcUs"
      },
      "execution_count": 12,
      "outputs": []
    },
    {
      "cell_type": "code",
      "source": [
        "df[df[\"main_category\"].apply(len) == 1][\"category\"].value_counts()"
      ],
      "metadata": {
        "colab": {
          "base_uri": "https://localhost:8080/"
        },
        "id": "wdvK6j5BaRe2",
        "outputId": "27c5c8fe-1957-414d-b1c1-eb62b668746f"
      },
      "execution_count": 17,
      "outputs": [
        {
          "output_type": "execute_result",
          "data": {
            "text/plain": [
              "[cs.CV]                                 23812\n",
              "[quant-ph]                              14422\n",
              "[cs.CL]                                 10418\n",
              "[math.AP]                               10389\n",
              "[cond-mat.mtrl-sci]                      8885\n",
              "                                        ...  \n",
              "[cs.DC, cs.AR, cs.DS, cs.PF]                1\n",
              "[cs.CL, cs.AI, cs.IR, cs.PL]                1\n",
              "[cs.AI, cs.DL, cs.LG, cs.LO]                1\n",
              "[math.AG, math.DS, math.GR]                 1\n",
              "[math.GT, math.CO, math.MG, math.SG]        1\n",
              "Name: category, Length: 9265, dtype: int64"
            ]
          },
          "metadata": {},
          "execution_count": 17
        }
      ]
    },
    {
      "cell_type": "code",
      "source": [
        "#Save filtered and cleaned data into a csv filed\n",
        "# df.to_csv(output_file, index = False)"
      ],
      "metadata": {
        "id": "HJ67x8y2Jk2s"
      },
      "execution_count": 14,
      "outputs": []
    },
    {
      "cell_type": "code",
      "source": [],
      "metadata": {
        "id": "YrO4T49oJk3S"
      },
      "execution_count": 14,
      "outputs": []
    }
  ]
}