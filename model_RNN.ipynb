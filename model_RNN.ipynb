{
  "cells": [
    {
      "cell_type": "markdown",
      "metadata": {
        "id": "view-in-github",
        "colab_type": "text"
      },
      "source": [
        "<a href=\"https://colab.research.google.com/github/mr1er0y/Topic-Modelling-Neuro/blob/main/model_RNN.ipynb\" target=\"_parent\"><img src=\"https://colab.research.google.com/assets/colab-badge.svg\" alt=\"Open In Colab\"/></a>"
      ]
    },
    {
      "cell_type": "markdown",
      "source": [
        " Рекуррентные нейронные сети являются одним из инструментов для обработки естественного языка являются. Они хорошо работают на задачах, где важна последовательность, таких как генерация текста и машинный перевод. Рекуррентные нейронные сети могут учитывать зависимости между словами на разных расстояниях и сохраняют информацию о предыдущих состояниях, что позволяет лучше понимать контекст. Однако они могут быть медленными в обучении и использовании из-за последовательной обработки данных, и могут страдать от проблемы затухания градиента при обучении на длинных последовательностях."
      ],
      "metadata": {
        "id": "zjD4KerRzyJy"
      }
    },
    {
      "cell_type": "code",
      "source": [
        "!pip install tensorflow-gpu   > /dev/null\n",
        "!pip install tf-nightly  > /dev/null"
      ],
      "metadata": {
        "id": "9veSh3UlVdvJ",
        "colab": {
          "base_uri": "https://localhost:8080/"
        },
        "outputId": "6b09f221-5176-4788-dfb1-6e41483f6990"
      },
      "execution_count": 1,
      "outputs": [
        {
          "output_type": "stream",
          "name": "stdout",
          "text": [
            "  \u001b[1;31merror\u001b[0m: \u001b[1msubprocess-exited-with-error\u001b[0m\n",
            "  \n",
            "  \u001b[31m×\u001b[0m \u001b[32mpython setup.py egg_info\u001b[0m did not run successfully.\n",
            "  \u001b[31m│\u001b[0m exit code: \u001b[1;36m1\u001b[0m\n",
            "  \u001b[31m╰─>\u001b[0m See above for output.\n",
            "  \n",
            "  \u001b[1;35mnote\u001b[0m: This error originates from a subprocess, and is likely not a problem with pip.\n",
            "\u001b[1;31merror\u001b[0m: \u001b[1mmetadata-generation-failed\u001b[0m\n",
            "\n",
            "\u001b[31m×\u001b[0m Encountered error while generating package metadata.\n",
            "\u001b[31m╰─>\u001b[0m See above for output.\n",
            "\n",
            "\u001b[1;35mnote\u001b[0m: This is an issue with the package mentioned above, not pip.\n",
            "\u001b[1;36mhint\u001b[0m: See above for details.\n"
          ]
        }
      ]
    },
    {
      "cell_type": "code",
      "source": [
        "import tensorflow as tf\n",
        "device_name = tf.test.gpu_device_name()\n",
        "if device_name != '/device:GPU:0':\n",
        "  raise SystemError('GPU device not found')\n",
        "print('Found GPU at: {}'.format(device_name))"
      ],
      "metadata": {
        "colab": {
          "base_uri": "https://localhost:8080/"
        },
        "id": "Aj1GsAxdt1Sp",
        "outputId": "84444bcc-c1f4-49fb-f2d4-6e4e7f78c06c"
      },
      "execution_count": 2,
      "outputs": [
        {
          "output_type": "stream",
          "name": "stdout",
          "text": [
            "Found GPU at: /device:GPU:0\n"
          ]
        }
      ]
    },
    {
      "cell_type": "markdown",
      "metadata": {
        "id": "fP9OMSUT-FtL"
      },
      "source": [
        "## Dataset Preprocessing\n",
        "\n",
        "В первую очередь нужно скачать данные из Kaggle(у меня они хранятся на Google Drive) и произвести преобразования  \n",
        "1. Токенизировать данные\n",
        "2. Бинанизировать вектор тем с помощью MultiLabelBinarizer"
      ]
    },
    {
      "cell_type": "code",
      "execution_count": 3,
      "metadata": {
        "colab": {
          "base_uri": "https://localhost:8080/"
        },
        "id": "wlmkLYXbO2Q2",
        "outputId": "49a5be6e-92ab-4632-aad5-178430cbbdac"
      },
      "outputs": [
        {
          "output_type": "stream",
          "name": "stdout",
          "text": [
            "Mounted at /content/drive\n"
          ]
        }
      ],
      "source": [
        "from google.colab import drive\n",
        "drive.mount('/content/drive')"
      ]
    },
    {
      "cell_type": "code",
      "execution_count": 4,
      "metadata": {
        "id": "bEGqe69UmWe2",
        "colab": {
          "base_uri": "https://localhost:8080/",
          "height": 421
        },
        "outputId": "779c2d9b-d9ac-430c-a9e6-3cf85020fb05"
      },
      "outputs": [
        {
          "output_type": "stream",
          "name": "stderr",
          "text": [
            "<ipython-input-4-7f2bcc434df4>:9: DtypeWarning: Columns (0) have mixed types. Specify dtype option on import or set low_memory=False.\n",
            "  df = pd.read_csv(path)\n"
          ]
        },
        {
          "output_type": "execute_result",
          "data": {
            "text/plain": [
              "         id                                              title  \\\n",
              "0  704.0033  Convergence of the discrete dipole approximati...   \n",
              "1  704.0038  The discrete dipole approximation: an overview...   \n",
              "2  704.0275                     Mapping radii of metric spaces   \n",
              "3  704.0479               The affine part of the Picard scheme   \n",
              "4  704.0752  Actions for the Bosonic String with the Curved...   \n",
              "\n",
              "                                             authors  \\\n",
              "0  Maxim A. Yurkin, Valeri P. Maltsev, Alfons G. ...   \n",
              "1                Maxim A. Yurkin, Alfons G. Hoekstra   \n",
              "2                   George M. Bergman (U.C.Berkeley)   \n",
              "3                                          T.Geisser   \n",
              "4                                      Davoud Kamani   \n",
              "\n",
              "                            category published_date updated_date  \\\n",
              "0  [physics.optics, physics.comp-ph]     2022-03-29   2022-03-31   \n",
              "1  [physics.optics, physics.comp-ph]     2022-03-29   2022-03-30   \n",
              "2                          [math.MG]     2008-03-28   2021-10-15   \n",
              "3                 [math.AG, math.KT]     2021-01-28   2021-01-29   \n",
              "4                           [hep-th]     2008-04-18   2020-08-21   \n",
              "\n",
              "                                            abstract  \n",
              "0    We performed a rigorous theoretical converge...  \n",
              "1    We present a review of the discrete dipole a...  \n",
              "2    It is known that every closed curve of lengt...  \n",
              "3    We describe the maximal torus and maximal un...  \n",
              "4    At first we introduce an action for the stri...  "
            ],
            "text/html": [
              "\n",
              "  <div id=\"df-0689b397-c825-49b9-a0fe-ba82717eacdc\">\n",
              "    <div class=\"colab-df-container\">\n",
              "      <div>\n",
              "<style scoped>\n",
              "    .dataframe tbody tr th:only-of-type {\n",
              "        vertical-align: middle;\n",
              "    }\n",
              "\n",
              "    .dataframe tbody tr th {\n",
              "        vertical-align: top;\n",
              "    }\n",
              "\n",
              "    .dataframe thead th {\n",
              "        text-align: right;\n",
              "    }\n",
              "</style>\n",
              "<table border=\"1\" class=\"dataframe\">\n",
              "  <thead>\n",
              "    <tr style=\"text-align: right;\">\n",
              "      <th></th>\n",
              "      <th>id</th>\n",
              "      <th>title</th>\n",
              "      <th>authors</th>\n",
              "      <th>category</th>\n",
              "      <th>published_date</th>\n",
              "      <th>updated_date</th>\n",
              "      <th>abstract</th>\n",
              "    </tr>\n",
              "  </thead>\n",
              "  <tbody>\n",
              "    <tr>\n",
              "      <th>0</th>\n",
              "      <td>704.0033</td>\n",
              "      <td>Convergence of the discrete dipole approximati...</td>\n",
              "      <td>Maxim A. Yurkin, Valeri P. Maltsev, Alfons G. ...</td>\n",
              "      <td>[physics.optics, physics.comp-ph]</td>\n",
              "      <td>2022-03-29</td>\n",
              "      <td>2022-03-31</td>\n",
              "      <td>We performed a rigorous theoretical converge...</td>\n",
              "    </tr>\n",
              "    <tr>\n",
              "      <th>1</th>\n",
              "      <td>704.0038</td>\n",
              "      <td>The discrete dipole approximation: an overview...</td>\n",
              "      <td>Maxim A. Yurkin, Alfons G. Hoekstra</td>\n",
              "      <td>[physics.optics, physics.comp-ph]</td>\n",
              "      <td>2022-03-29</td>\n",
              "      <td>2022-03-30</td>\n",
              "      <td>We present a review of the discrete dipole a...</td>\n",
              "    </tr>\n",
              "    <tr>\n",
              "      <th>2</th>\n",
              "      <td>704.0275</td>\n",
              "      <td>Mapping radii of metric spaces</td>\n",
              "      <td>George M. Bergman (U.C.Berkeley)</td>\n",
              "      <td>[math.MG]</td>\n",
              "      <td>2008-03-28</td>\n",
              "      <td>2021-10-15</td>\n",
              "      <td>It is known that every closed curve of lengt...</td>\n",
              "    </tr>\n",
              "    <tr>\n",
              "      <th>3</th>\n",
              "      <td>704.0479</td>\n",
              "      <td>The affine part of the Picard scheme</td>\n",
              "      <td>T.Geisser</td>\n",
              "      <td>[math.AG, math.KT]</td>\n",
              "      <td>2021-01-28</td>\n",
              "      <td>2021-01-29</td>\n",
              "      <td>We describe the maximal torus and maximal un...</td>\n",
              "    </tr>\n",
              "    <tr>\n",
              "      <th>4</th>\n",
              "      <td>704.0752</td>\n",
              "      <td>Actions for the Bosonic String with the Curved...</td>\n",
              "      <td>Davoud Kamani</td>\n",
              "      <td>[hep-th]</td>\n",
              "      <td>2008-04-18</td>\n",
              "      <td>2020-08-21</td>\n",
              "      <td>At first we introduce an action for the stri...</td>\n",
              "    </tr>\n",
              "  </tbody>\n",
              "</table>\n",
              "</div>\n",
              "      <button class=\"colab-df-convert\" onclick=\"convertToInteractive('df-0689b397-c825-49b9-a0fe-ba82717eacdc')\"\n",
              "              title=\"Convert this dataframe to an interactive table.\"\n",
              "              style=\"display:none;\">\n",
              "        \n",
              "  <svg xmlns=\"http://www.w3.org/2000/svg\" height=\"24px\"viewBox=\"0 0 24 24\"\n",
              "       width=\"24px\">\n",
              "    <path d=\"M0 0h24v24H0V0z\" fill=\"none\"/>\n",
              "    <path d=\"M18.56 5.44l.94 2.06.94-2.06 2.06-.94-2.06-.94-.94-2.06-.94 2.06-2.06.94zm-11 1L8.5 8.5l.94-2.06 2.06-.94-2.06-.94L8.5 2.5l-.94 2.06-2.06.94zm10 10l.94 2.06.94-2.06 2.06-.94-2.06-.94-.94-2.06-.94 2.06-2.06.94z\"/><path d=\"M17.41 7.96l-1.37-1.37c-.4-.4-.92-.59-1.43-.59-.52 0-1.04.2-1.43.59L10.3 9.45l-7.72 7.72c-.78.78-.78 2.05 0 2.83L4 21.41c.39.39.9.59 1.41.59.51 0 1.02-.2 1.41-.59l7.78-7.78 2.81-2.81c.8-.78.8-2.07 0-2.86zM5.41 20L4 18.59l7.72-7.72 1.47 1.35L5.41 20z\"/>\n",
              "  </svg>\n",
              "      </button>\n",
              "      \n",
              "  <style>\n",
              "    .colab-df-container {\n",
              "      display:flex;\n",
              "      flex-wrap:wrap;\n",
              "      gap: 12px;\n",
              "    }\n",
              "\n",
              "    .colab-df-convert {\n",
              "      background-color: #E8F0FE;\n",
              "      border: none;\n",
              "      border-radius: 50%;\n",
              "      cursor: pointer;\n",
              "      display: none;\n",
              "      fill: #1967D2;\n",
              "      height: 32px;\n",
              "      padding: 0 0 0 0;\n",
              "      width: 32px;\n",
              "    }\n",
              "\n",
              "    .colab-df-convert:hover {\n",
              "      background-color: #E2EBFA;\n",
              "      box-shadow: 0px 1px 2px rgba(60, 64, 67, 0.3), 0px 1px 3px 1px rgba(60, 64, 67, 0.15);\n",
              "      fill: #174EA6;\n",
              "    }\n",
              "\n",
              "    [theme=dark] .colab-df-convert {\n",
              "      background-color: #3B4455;\n",
              "      fill: #D2E3FC;\n",
              "    }\n",
              "\n",
              "    [theme=dark] .colab-df-convert:hover {\n",
              "      background-color: #434B5C;\n",
              "      box-shadow: 0px 1px 3px 1px rgba(0, 0, 0, 0.15);\n",
              "      filter: drop-shadow(0px 1px 2px rgba(0, 0, 0, 0.3));\n",
              "      fill: #FFFFFF;\n",
              "    }\n",
              "  </style>\n",
              "\n",
              "      <script>\n",
              "        const buttonEl =\n",
              "          document.querySelector('#df-0689b397-c825-49b9-a0fe-ba82717eacdc button.colab-df-convert');\n",
              "        buttonEl.style.display =\n",
              "          google.colab.kernel.accessAllowed ? 'block' : 'none';\n",
              "\n",
              "        async function convertToInteractive(key) {\n",
              "          const element = document.querySelector('#df-0689b397-c825-49b9-a0fe-ba82717eacdc');\n",
              "          const dataTable =\n",
              "            await google.colab.kernel.invokeFunction('convertToInteractive',\n",
              "                                                     [key], {});\n",
              "          if (!dataTable) return;\n",
              "\n",
              "          const docLinkHtml = 'Like what you see? Visit the ' +\n",
              "            '<a target=\"_blank\" href=https://colab.research.google.com/notebooks/data_table.ipynb>data table notebook</a>'\n",
              "            + ' to learn more about interactive tables.';\n",
              "          element.innerHTML = '';\n",
              "          dataTable['output_type'] = 'display_data';\n",
              "          await google.colab.output.renderOutput(dataTable, element);\n",
              "          const docLink = document.createElement('div');\n",
              "          docLink.innerHTML = docLinkHtml;\n",
              "          element.appendChild(docLink);\n",
              "        }\n",
              "      </script>\n",
              "    </div>\n",
              "  </div>\n",
              "  "
            ]
          },
          "metadata": {},
          "execution_count": 4
        }
      ],
      "source": [
        "import pandas as pd\n",
        "import numpy as np\n",
        "from sklearn.preprocessing import MultiLabelBinarizer\n",
        "\n",
        "path = \"drive/MyDrive/Data_arXiv/filtered_arxiv_db.csv\"\n",
        "SEED = 77\n",
        "\n",
        "\n",
        "df = pd.read_csv(path)\n",
        "df[['created_date', 'update_date']] = df[['created_date', 'update_date']].apply(pd.to_datetime)\n",
        "df = df.drop(['versions', 'description', 'new_category', 'sub_category'], axis=1)\n",
        "df.columns = ['id', 'title', 'authors', 'category', 'published_date', 'updated_date', 'abstract']\n",
        "df[\"category\"] = df[\"category\"].apply(eval)\n",
        "df.head()"
      ]
    },
    {
      "cell_type": "code",
      "source": [
        "# Extract the categories column as a list of lists\n",
        "categories = []\n",
        "for el in df[\"category\"]:\n",
        "    categories.extend(el)\n",
        "categories = np.unique(categories)\n",
        "num_categories = len(categories)\n",
        "\n",
        "# Initialize the MultiLabelBinarizer and fit_transform the categories\n",
        "mlb = MultiLabelBinarizer()\n",
        "df['labels'] =  mlb.fit_transform(df[\"category\"].values).tolist()"
      ],
      "metadata": {
        "id": "kLs7v_AVmCtN"
      },
      "execution_count": 5,
      "outputs": []
    },
    {
      "cell_type": "code",
      "source": [
        "num_categories"
      ],
      "metadata": {
        "colab": {
          "base_uri": "https://localhost:8080/"
        },
        "id": "lOhn6OX111lw",
        "outputId": "c2ed623a-66c2-40b9-d83c-fb3496d2a778"
      },
      "execution_count": 6,
      "outputs": [
        {
          "output_type": "execute_result",
          "data": {
            "text/plain": [
              "170"
            ]
          },
          "metadata": {},
          "execution_count": 6
        }
      ]
    },
    {
      "cell_type": "code",
      "source": [
        "def preprocessing(data):\n",
        "    data = data[data['abstract'].str.contains('paper has been withdrawn') == False]\n",
        "    data['abstract'] = [a.strip() for a in data['abstract']]\n",
        "    data['abstract'] = data['abstract'].str.replace('\\n', ' ', regex = False).str.replace('\\t', ' ', regex = False).str.replace(r'\\s\\s+', ' ', regex = True)\n",
        "    data['abstract'] = data['abstract'].str.replace('([.,!?()])', r' \\1 ')\n",
        "    return data\n",
        "\n",
        "df = preprocessing(df)\n",
        "df.head()"
      ],
      "metadata": {
        "colab": {
          "base_uri": "https://localhost:8080/",
          "height": 452
        },
        "id": "NaVQO6rPlwf1",
        "outputId": "ee37ebbb-84c3-4785-a678-ba98ed06bed1"
      },
      "execution_count": 8,
      "outputs": [
        {
          "output_type": "stream",
          "name": "stderr",
          "text": [
            "<ipython-input-8-60440652729b>:6: FutureWarning: The default value of regex will change from True to False in a future version.\n",
            "  data['abstract'] = data['abstract'].str.replace('([.,!?()])', r' \\1 ')\n"
          ]
        },
        {
          "output_type": "execute_result",
          "data": {
            "text/plain": [
              "         id                                              title  \\\n",
              "0  704.0033  Convergence of the discrete dipole approximati...   \n",
              "1  704.0038  The discrete dipole approximation: an overview...   \n",
              "2  704.0275                     Mapping radii of metric spaces   \n",
              "3  704.0479               The affine part of the Picard scheme   \n",
              "4  704.0752  Actions for the Bosonic String with the Curved...   \n",
              "\n",
              "                                             authors  \\\n",
              "0  Maxim A. Yurkin, Valeri P. Maltsev, Alfons G. ...   \n",
              "1                Maxim A. Yurkin, Alfons G. Hoekstra   \n",
              "2                   George M. Bergman (U.C.Berkeley)   \n",
              "3                                          T.Geisser   \n",
              "4                                      Davoud Kamani   \n",
              "\n",
              "                            category published_date updated_date  \\\n",
              "0  [physics.optics, physics.comp-ph]     2022-03-29   2022-03-31   \n",
              "1  [physics.optics, physics.comp-ph]     2022-03-29   2022-03-30   \n",
              "2                          [math.MG]     2008-03-28   2021-10-15   \n",
              "3                 [math.AG, math.KT]     2021-01-28   2021-01-29   \n",
              "4                           [hep-th]     2008-04-18   2020-08-21   \n",
              "\n",
              "                                            abstract  \\\n",
              "0  We performed a rigorous theoretical convergenc...   \n",
              "1  We present a review of the discrete dipole app...   \n",
              "2  It is known that every closed curve of length ...   \n",
              "3  We describe the maximal torus and maximal unip...   \n",
              "4  At first we introduce an action for the string...   \n",
              "\n",
              "                                              labels  \n",
              "0  [0, 0, 0, 0, 0, 0, 0, 0, 0, 0, 0, 0, 0, 0, 0, ...  \n",
              "1  [0, 0, 0, 0, 0, 0, 0, 0, 0, 0, 0, 0, 0, 0, 0, ...  \n",
              "2  [0, 0, 0, 0, 0, 0, 0, 0, 0, 0, 0, 0, 0, 0, 0, ...  \n",
              "3  [0, 0, 0, 0, 0, 0, 0, 0, 0, 0, 0, 0, 0, 0, 0, ...  \n",
              "4  [0, 0, 0, 0, 0, 0, 0, 0, 0, 0, 0, 0, 0, 0, 0, ...  "
            ],
            "text/html": [
              "\n",
              "  <div id=\"df-a79eb564-b49f-4a09-b184-64817fcbafec\">\n",
              "    <div class=\"colab-df-container\">\n",
              "      <div>\n",
              "<style scoped>\n",
              "    .dataframe tbody tr th:only-of-type {\n",
              "        vertical-align: middle;\n",
              "    }\n",
              "\n",
              "    .dataframe tbody tr th {\n",
              "        vertical-align: top;\n",
              "    }\n",
              "\n",
              "    .dataframe thead th {\n",
              "        text-align: right;\n",
              "    }\n",
              "</style>\n",
              "<table border=\"1\" class=\"dataframe\">\n",
              "  <thead>\n",
              "    <tr style=\"text-align: right;\">\n",
              "      <th></th>\n",
              "      <th>id</th>\n",
              "      <th>title</th>\n",
              "      <th>authors</th>\n",
              "      <th>category</th>\n",
              "      <th>published_date</th>\n",
              "      <th>updated_date</th>\n",
              "      <th>abstract</th>\n",
              "      <th>labels</th>\n",
              "    </tr>\n",
              "  </thead>\n",
              "  <tbody>\n",
              "    <tr>\n",
              "      <th>0</th>\n",
              "      <td>704.0033</td>\n",
              "      <td>Convergence of the discrete dipole approximati...</td>\n",
              "      <td>Maxim A. Yurkin, Valeri P. Maltsev, Alfons G. ...</td>\n",
              "      <td>[physics.optics, physics.comp-ph]</td>\n",
              "      <td>2022-03-29</td>\n",
              "      <td>2022-03-31</td>\n",
              "      <td>We performed a rigorous theoretical convergenc...</td>\n",
              "      <td>[0, 0, 0, 0, 0, 0, 0, 0, 0, 0, 0, 0, 0, 0, 0, ...</td>\n",
              "    </tr>\n",
              "    <tr>\n",
              "      <th>1</th>\n",
              "      <td>704.0038</td>\n",
              "      <td>The discrete dipole approximation: an overview...</td>\n",
              "      <td>Maxim A. Yurkin, Alfons G. Hoekstra</td>\n",
              "      <td>[physics.optics, physics.comp-ph]</td>\n",
              "      <td>2022-03-29</td>\n",
              "      <td>2022-03-30</td>\n",
              "      <td>We present a review of the discrete dipole app...</td>\n",
              "      <td>[0, 0, 0, 0, 0, 0, 0, 0, 0, 0, 0, 0, 0, 0, 0, ...</td>\n",
              "    </tr>\n",
              "    <tr>\n",
              "      <th>2</th>\n",
              "      <td>704.0275</td>\n",
              "      <td>Mapping radii of metric spaces</td>\n",
              "      <td>George M. Bergman (U.C.Berkeley)</td>\n",
              "      <td>[math.MG]</td>\n",
              "      <td>2008-03-28</td>\n",
              "      <td>2021-10-15</td>\n",
              "      <td>It is known that every closed curve of length ...</td>\n",
              "      <td>[0, 0, 0, 0, 0, 0, 0, 0, 0, 0, 0, 0, 0, 0, 0, ...</td>\n",
              "    </tr>\n",
              "    <tr>\n",
              "      <th>3</th>\n",
              "      <td>704.0479</td>\n",
              "      <td>The affine part of the Picard scheme</td>\n",
              "      <td>T.Geisser</td>\n",
              "      <td>[math.AG, math.KT]</td>\n",
              "      <td>2021-01-28</td>\n",
              "      <td>2021-01-29</td>\n",
              "      <td>We describe the maximal torus and maximal unip...</td>\n",
              "      <td>[0, 0, 0, 0, 0, 0, 0, 0, 0, 0, 0, 0, 0, 0, 0, ...</td>\n",
              "    </tr>\n",
              "    <tr>\n",
              "      <th>4</th>\n",
              "      <td>704.0752</td>\n",
              "      <td>Actions for the Bosonic String with the Curved...</td>\n",
              "      <td>Davoud Kamani</td>\n",
              "      <td>[hep-th]</td>\n",
              "      <td>2008-04-18</td>\n",
              "      <td>2020-08-21</td>\n",
              "      <td>At first we introduce an action for the string...</td>\n",
              "      <td>[0, 0, 0, 0, 0, 0, 0, 0, 0, 0, 0, 0, 0, 0, 0, ...</td>\n",
              "    </tr>\n",
              "  </tbody>\n",
              "</table>\n",
              "</div>\n",
              "      <button class=\"colab-df-convert\" onclick=\"convertToInteractive('df-a79eb564-b49f-4a09-b184-64817fcbafec')\"\n",
              "              title=\"Convert this dataframe to an interactive table.\"\n",
              "              style=\"display:none;\">\n",
              "        \n",
              "  <svg xmlns=\"http://www.w3.org/2000/svg\" height=\"24px\"viewBox=\"0 0 24 24\"\n",
              "       width=\"24px\">\n",
              "    <path d=\"M0 0h24v24H0V0z\" fill=\"none\"/>\n",
              "    <path d=\"M18.56 5.44l.94 2.06.94-2.06 2.06-.94-2.06-.94-.94-2.06-.94 2.06-2.06.94zm-11 1L8.5 8.5l.94-2.06 2.06-.94-2.06-.94L8.5 2.5l-.94 2.06-2.06.94zm10 10l.94 2.06.94-2.06 2.06-.94-2.06-.94-.94-2.06-.94 2.06-2.06.94z\"/><path d=\"M17.41 7.96l-1.37-1.37c-.4-.4-.92-.59-1.43-.59-.52 0-1.04.2-1.43.59L10.3 9.45l-7.72 7.72c-.78.78-.78 2.05 0 2.83L4 21.41c.39.39.9.59 1.41.59.51 0 1.02-.2 1.41-.59l7.78-7.78 2.81-2.81c.8-.78.8-2.07 0-2.86zM5.41 20L4 18.59l7.72-7.72 1.47 1.35L5.41 20z\"/>\n",
              "  </svg>\n",
              "      </button>\n",
              "      \n",
              "  <style>\n",
              "    .colab-df-container {\n",
              "      display:flex;\n",
              "      flex-wrap:wrap;\n",
              "      gap: 12px;\n",
              "    }\n",
              "\n",
              "    .colab-df-convert {\n",
              "      background-color: #E8F0FE;\n",
              "      border: none;\n",
              "      border-radius: 50%;\n",
              "      cursor: pointer;\n",
              "      display: none;\n",
              "      fill: #1967D2;\n",
              "      height: 32px;\n",
              "      padding: 0 0 0 0;\n",
              "      width: 32px;\n",
              "    }\n",
              "\n",
              "    .colab-df-convert:hover {\n",
              "      background-color: #E2EBFA;\n",
              "      box-shadow: 0px 1px 2px rgba(60, 64, 67, 0.3), 0px 1px 3px 1px rgba(60, 64, 67, 0.15);\n",
              "      fill: #174EA6;\n",
              "    }\n",
              "\n",
              "    [theme=dark] .colab-df-convert {\n",
              "      background-color: #3B4455;\n",
              "      fill: #D2E3FC;\n",
              "    }\n",
              "\n",
              "    [theme=dark] .colab-df-convert:hover {\n",
              "      background-color: #434B5C;\n",
              "      box-shadow: 0px 1px 3px 1px rgba(0, 0, 0, 0.15);\n",
              "      filter: drop-shadow(0px 1px 2px rgba(0, 0, 0, 0.3));\n",
              "      fill: #FFFFFF;\n",
              "    }\n",
              "  </style>\n",
              "\n",
              "      <script>\n",
              "        const buttonEl =\n",
              "          document.querySelector('#df-a79eb564-b49f-4a09-b184-64817fcbafec button.colab-df-convert');\n",
              "        buttonEl.style.display =\n",
              "          google.colab.kernel.accessAllowed ? 'block' : 'none';\n",
              "\n",
              "        async function convertToInteractive(key) {\n",
              "          const element = document.querySelector('#df-a79eb564-b49f-4a09-b184-64817fcbafec');\n",
              "          const dataTable =\n",
              "            await google.colab.kernel.invokeFunction('convertToInteractive',\n",
              "                                                     [key], {});\n",
              "          if (!dataTable) return;\n",
              "\n",
              "          const docLinkHtml = 'Like what you see? Visit the ' +\n",
              "            '<a target=\"_blank\" href=https://colab.research.google.com/notebooks/data_table.ipynb>data table notebook</a>'\n",
              "            + ' to learn more about interactive tables.';\n",
              "          element.innerHTML = '';\n",
              "          dataTable['output_type'] = 'display_data';\n",
              "          await google.colab.output.renderOutput(dataTable, element);\n",
              "          const docLink = document.createElement('div');\n",
              "          docLink.innerHTML = docLinkHtml;\n",
              "          element.appendChild(docLink);\n",
              "        }\n",
              "      </script>\n",
              "    </div>\n",
              "  </div>\n",
              "  "
            ]
          },
          "metadata": {},
          "execution_count": 8
        }
      ]
    },
    {
      "cell_type": "markdown",
      "metadata": {
        "id": "gzUID_qZPlJR"
      },
      "source": [
        "## Токенизация \n",
        "\n",
        "`labels` - это закодированные в бинарном виде темы статей. Он состоит из 0 и 1, где 1 на i позиции обозначает, что тема i соотвествует тексту, а 0 - нет.\n",
        "\n",
        "`input_ids` - это последовательность чисел, которые представляют отдельные токены в тексте, каждый токен преобразуется в уникальное число, которое соответствует его позиции в словаре модели BERT. Это основной входной тензор, который передается в модель.\n",
        "\n",
        "`token_type_ids` - это последовательность чисел, которая указывает, к какому из двух предложений относится каждый токен в input_ids (0 для первого предложения и 1 для второго). Это необходимо в многих задачах, например, в задачах сравнения двух предложений, где модель должна понимать, какой токен относится к какому предложению.\n",
        "\n",
        "`attention_mask`  это последовательность чисел, которая указывает, какие токены должны быть проигнорированы моделью в процессе обработки текста. Она состоит из 0 и 1, где 1 обозначает, что токен должен быть учтен в модели, а 0 - игнорирован."
      ]
    },
    {
      "cell_type": "code",
      "source": [
        "df['unifed_text'] = df['title'] + '[SEP]' + df['abstract'] + '[SEP]'"
      ],
      "metadata": {
        "id": "vxlqz7SylQoy"
      },
      "execution_count": 9,
      "outputs": []
    },
    {
      "cell_type": "code",
      "source": [
        "import pandas as pd\n",
        "import numpy as np\n",
        "import tensorflow as tf\n",
        "from tensorflow.keras.preprocessing.text import Tokenizer\n",
        "from tensorflow.keras.preprocessing.sequence import pad_sequences\n",
        "from sklearn.model_selection import train_test_split\n",
        "\n",
        "\n",
        "with tf.device('/device:GPU:0'):\n",
        "    # Предварительная обработка данных\n",
        "    tokenizer = Tokenizer(num_words=5000, oov_token=\"<OOV>\")\n",
        "    tokenizer.fit_on_texts(df['unifed_text'])\n",
        "    word_index = tokenizer.word_index\n",
        "\n",
        "    sequences = tokenizer.texts_to_sequences(df['unifed_text'])\n",
        "    padded_sequences = pad_sequences(sequences, maxlen=350, truncating='post')\n",
        "\n",
        "    # Подготовка данных для обучения модели\n",
        "    X_train, X_test, y_train, y_test = train_test_split(padded_sequences, df['labels'], test_size=0.2,  random_state=SEED)\n",
        "\n",
        "    # Создание модели\n",
        "    model = tf.keras.Sequential([\n",
        "        tf.keras.layers.Embedding(len(word_index)+1, 32),\n",
        "        tf.keras.layers.Dropout(0.5),\n",
        "        tf.keras.layers.Bidirectional(tf.keras.layers.LSTM(32)),\n",
        "        tf.keras.layers.Dropout(0.5),\n",
        "        tf.keras.layers.Dense(64, activation='relu'),\n",
        "        tf.keras.layers.Dropout(0.5),\n",
        "        tf.keras.layers.Dense(32, activation='relu'),\n",
        "        tf.keras.layers.Dropout(0.5),\n",
        "        tf.keras.layers.Dense(num_categories, activation='sigmoid')\n",
        "        ])\n",
        "    \n",
        "    from keras import backend as K\n",
        "\n",
        "    def recall_m(y_true, y_pred):\n",
        "        true_positives = K.sum(K.round(K.clip(y_true * y_pred, 0, 1)))\n",
        "        possible_positives = K.sum(K.round(K.clip(y_true, 0, 1)))\n",
        "        recall = true_positives / (possible_positives + K.epsilon())\n",
        "        return recall\n",
        "\n",
        "    def precision_m(y_true, y_pred):\n",
        "        true_positives = K.sum(K.round(K.clip(y_true * y_pred, 0, 1)))\n",
        "        predicted_positives = K.sum(K.round(K.clip(y_pred, 0, 1)))\n",
        "        precision = true_positives / (predicted_positives + K.epsilon())\n",
        "        return precision\n",
        "\n",
        "    def f1_m(y_true, y_pred):\n",
        "        precision = precision_m(y_true, y_pred)\n",
        "        recall = recall_m(y_true, y_pred)\n",
        "        return 2*((precision*recall)/(precision+recall+K.epsilon()))\n",
        "\n",
        "\n",
        "    model.compile(loss='categorical_crossentropy', optimizer='adam', metrics=['accuracy', 'AUC', f1_m])\n",
        "\n",
        "\n",
        "    x_train = tf.cast(X_train , dtype=tf.float32)\n",
        "    y_train = tf.cast(y_train.to_list() , dtype=tf.int32)\n",
        "\n",
        "    X_test = tf.cast(X_test , dtype=tf.float32)\n",
        "    y_test = tf.cast(y_test.to_list() , dtype=tf.int32)\n",
        "\n",
        "    history = model.fit(X_train, y_train, epochs=3, validation_data=(X_test, y_test))\n",
        "\n",
        "    test_loss, test_acc, test_auc, test_f1 = model.evaluate(X_test, y_test)\n",
        "    print('Test accuracy:', test_acc, test_auc, test_f1)\n"
      ],
      "metadata": {
        "colab": {
          "base_uri": "https://localhost:8080/"
        },
        "id": "woGKQlmgsJ0P",
        "outputId": "e93a5612-0093-4485-a07a-ac7c5f7c1d2b"
      },
      "execution_count": 10,
      "outputs": [
        {
          "output_type": "stream",
          "name": "stdout",
          "text": [
            "Epoch 1/3\n",
            "16465/16465 [==============================] - 652s 39ms/step - loss: 429284.9062 - accuracy: 0.0032 - auc: 0.5434 - f1_m: 0.0240 - val_loss: 1322468.2500 - val_accuracy: 2.5814e-04 - val_auc: 0.5386 - val_f1_m: 0.0236\n",
            "Epoch 2/3\n",
            "16465/16465 [==============================] - 535s 33ms/step - loss: 3776877.5000 - accuracy: 2.6383e-04 - auc: 0.5343 - f1_m: 0.0234 - val_loss: 6908344.5000 - val_accuracy: 2.5814e-04 - val_auc: 0.5327 - val_f1_m: 0.0233\n",
            "Epoch 3/3\n",
            "16465/16465 [==============================] - 502s 31ms/step - loss: 12778319.0000 - accuracy: 2.4485e-04 - auc: 0.5324 - f1_m: 0.0233 - val_loss: 19570836.0000 - val_accuracy: 2.5814e-04 - val_auc: 0.5327 - val_f1_m: 0.0233\n",
            "4117/4117 [==============================] - 50s 12ms/step - loss: 19570836.0000 - accuracy: 2.5814e-04 - auc: 0.5327 - f1_m: 0.0233\n",
            "Test accuracy: 0.0002581350563559681 0.532698929309845 0.023271940648555756\n"
          ]
        }
      ]
    }
  ],
  "metadata": {
    "colab": {
      "provenance": [],
      "gpuType": "T4",
      "include_colab_link": true
    },
    "gpuClass": "standard",
    "kernelspec": {
      "display_name": "Python 3",
      "language": "python",
      "name": "python3"
    },
    "language_info": {
      "codemirror_mode": {
        "name": "ipython",
        "version": 3
      },
      "file_extension": ".py",
      "mimetype": "text/x-python",
      "name": "python",
      "nbconvert_exporter": "python",
      "pygments_lexer": "ipython3",
      "version": "3.7.9"
    },
    "pycharm": {
      "stem_cell": {
        "cell_type": "raw",
        "metadata": {
          "collapsed": false
        },
        "source": []
      }
    },
    "accelerator": "GPU"
  },
  "nbformat": 4,
  "nbformat_minor": 0
}